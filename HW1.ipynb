{
 "cells": [
  {
   "cell_type": "markdown",
   "metadata": {},
   "source": [
    "## Data preprocessing\n",
    "\n"
   ]
  },
  {
   "cell_type": "code",
   "execution_count": 1,
   "metadata": {},
   "outputs": [],
   "source": [
    "import numpy as np\n",
    "import pandas as pd\n",
    "from sklearn.neighbors import KNeighborsClassifier\n",
    "import matplotlib.pyplot as plt\n",
    "from matplotlib.colors import ListedColormap\n",
    "from sklearn import neighbors, datasets"
   ]
  },
  {
   "cell_type": "code",
   "execution_count": 2,
   "metadata": {},
   "outputs": [],
   "source": [
    "dataframe = pd.read_csv('/Users/rachel/Documents/CSE 587/Assignment1/data.csv')"
   ]
  },
  {
   "cell_type": "code",
   "execution_count": 42,
   "metadata": {},
   "outputs": [
    {
     "name": "stdout",
     "output_type": "stream",
     "text": [
      "              0         1         2         3         4         5         6  \\\n",
      "0      0.596225  0.540284  0.615606  0.838338  0.717266  0.773620  0.710818   \n",
      "1      0.596119  0.541987  0.657480  0.839107  0.714800  0.756745  0.784912   \n",
      "2      0.596369  0.544879  0.644498  0.839618  0.724341  0.781678  0.688424   \n",
      "3      0.596565  0.543414  0.630369  0.838824  0.702555  0.798007  0.700639   \n",
      "4      0.596308  0.545396  0.646339  0.838603  0.722751  0.783740  0.764063   \n",
      "...         ...       ...       ...       ...       ...       ...       ...   \n",
      "40951  0.595651  0.539783  0.670789  0.838701  0.709829  0.781669  0.717039   \n",
      "40952  0.598221  0.538306  0.678974  0.837949  0.708890  0.773353  0.653537   \n",
      "40953  0.596051  0.542275  0.600393  0.839104  0.712912  0.777144  0.817608   \n",
      "40954  0.596161  0.544811  0.643482  0.839284  0.722095  0.784065  0.124834   \n",
      "40955  0.596001  0.538083  0.656441  0.836895  0.724394  0.773876  0.743234   \n",
      "\n",
      "              7         8         9  ...        38        39        40  \\\n",
      "0      0.710995  0.712087  0.644000  ...  0.031828  0.000151  0.012935   \n",
      "1      0.785015  0.784224  0.710168  ...  0.013491  0.000240  0.015774   \n",
      "2      0.688369  0.688078  0.533995  ...  0.026643  0.000351  0.038273   \n",
      "3      0.700660  0.701047  0.516568  ...  0.034876  0.000167  0.006927   \n",
      "4      0.763992  0.763704  0.582751  ...  0.058191  0.000350  0.028285   \n",
      "...         ...       ...       ...  ...       ...       ...       ...   \n",
      "40951  0.717242  0.715748  0.656137  ...  0.050986  0.000167  0.009138   \n",
      "40952  0.653805  0.651851  0.672265  ...  0.054670  0.000222  0.019672   \n",
      "40953  0.817701  0.819631  0.675160  ...  0.239940  0.000022  0.040953   \n",
      "40954  0.124703  0.123841  0.055604  ...  0.033506  0.000362  0.220924   \n",
      "40955  0.743526  0.742733  0.527706  ...  0.049349  0.000225  0.008964   \n",
      "\n",
      "             41        42        43        44        45        46        47  \n",
      "0      0.110421  0.320896  0.364686  0.358736  0.317241  0.344491  0.308625  \n",
      "1      0.058570  0.464179  0.524752  0.552045  0.228966  0.256625  0.221024  \n",
      "2      0.148641  0.383582  0.435644  0.444238  0.329655  0.358438  0.320755  \n",
      "3      0.048715  0.326866  0.372937  0.379182  0.371034  0.400279  0.362534  \n",
      "4      0.112182  0.391045  0.443894  0.453532  0.325517  0.354254  0.316712  \n",
      "...         ...       ...       ...       ...       ...       ...       ...  \n",
      "40951  0.078031  0.377612  0.429043  0.429368  0.300690  0.329149  0.293801  \n",
      "40952  0.020852  0.320896  0.364686  0.388476  0.366897  0.397490  0.361186  \n",
      "40953  0.103141  0.371642  0.422442  0.425651  0.310345  0.338912  0.301887  \n",
      "40954  0.391146  0.414925  0.470297  0.483271  0.311724  0.341702  0.303235  \n",
      "40955  0.045870  0.304478  0.349835  0.355019  0.358621  0.386332  0.349057  \n",
      "\n",
      "[40956 rows x 48 columns]\n"
     ]
    }
   ],
   "source": [
    "# Normalization\n",
    "df = dataframe.iloc[:, 0:48]\n",
    "xmax = df.max()\n",
    "xmin = df.min()\n",
    "\n",
    "dff=(df-xmin)/(xmax-xmin)\n",
    "print(dff)\n"
   ]
  },
  {
   "cell_type": "code",
   "execution_count": 3,
   "metadata": {},
   "outputs": [
    {
     "name": "stdout",
     "output_type": "stream",
     "text": [
      "(40956, 49)\n"
     ]
    },
    {
     "data": {
      "text/html": [
       "<div>\n",
       "<style scoped>\n",
       "    .dataframe tbody tr th:only-of-type {\n",
       "        vertical-align: middle;\n",
       "    }\n",
       "\n",
       "    .dataframe tbody tr th {\n",
       "        vertical-align: top;\n",
       "    }\n",
       "\n",
       "    .dataframe thead th {\n",
       "        text-align: right;\n",
       "    }\n",
       "</style>\n",
       "<table border=\"1\" class=\"dataframe\">\n",
       "  <thead>\n",
       "    <tr style=\"text-align: right;\">\n",
       "      <th></th>\n",
       "      <th>0</th>\n",
       "      <th>1</th>\n",
       "      <th>2</th>\n",
       "      <th>3</th>\n",
       "      <th>4</th>\n",
       "      <th>5</th>\n",
       "      <th>6</th>\n",
       "      <th>7</th>\n",
       "      <th>8</th>\n",
       "      <th>9</th>\n",
       "      <th>...</th>\n",
       "      <th>39</th>\n",
       "      <th>40</th>\n",
       "      <th>41</th>\n",
       "      <th>42</th>\n",
       "      <th>43</th>\n",
       "      <th>44</th>\n",
       "      <th>45</th>\n",
       "      <th>46</th>\n",
       "      <th>47</th>\n",
       "      <th>48</th>\n",
       "    </tr>\n",
       "  </thead>\n",
       "  <tbody>\n",
       "    <tr>\n",
       "      <th>0</th>\n",
       "      <td>-3.014000e-06</td>\n",
       "      <td>-0.000044</td>\n",
       "      <td>-0.000278</td>\n",
       "      <td>-6.710100e-06</td>\n",
       "      <td>-0.000015</td>\n",
       "      <td>-0.000113</td>\n",
       "      <td>0.010787</td>\n",
       "      <td>0.010831</td>\n",
       "      <td>0.011108</td>\n",
       "      <td>0.002458</td>\n",
       "      <td>...</td>\n",
       "      <td>-0.71593</td>\n",
       "      <td>1.6617</td>\n",
       "      <td>12.1770</td>\n",
       "      <td>-1.5040</td>\n",
       "      <td>-1.5041</td>\n",
       "      <td>-1.5044</td>\n",
       "      <td>-1.4984</td>\n",
       "      <td>-1.4985</td>\n",
       "      <td>-1.4984</td>\n",
       "      <td>5</td>\n",
       "    </tr>\n",
       "    <tr>\n",
       "      <th>1</th>\n",
       "      <td>-4.532700e-06</td>\n",
       "      <td>-0.000027</td>\n",
       "      <td>0.000115</td>\n",
       "      <td>2.347100e-07</td>\n",
       "      <td>-0.000022</td>\n",
       "      <td>-0.000318</td>\n",
       "      <td>0.025578</td>\n",
       "      <td>0.025605</td>\n",
       "      <td>0.025490</td>\n",
       "      <td>0.025175</td>\n",
       "      <td>...</td>\n",
       "      <td>-0.61186</td>\n",
       "      <td>2.1574</td>\n",
       "      <td>6.7002</td>\n",
       "      <td>-1.4944</td>\n",
       "      <td>-1.4944</td>\n",
       "      <td>-1.4940</td>\n",
       "      <td>-1.5048</td>\n",
       "      <td>-1.5048</td>\n",
       "      <td>-1.5049</td>\n",
       "      <td>8</td>\n",
       "    </tr>\n",
       "    <tr>\n",
       "      <th>2</th>\n",
       "      <td>-9.615600e-07</td>\n",
       "      <td>0.000002</td>\n",
       "      <td>-0.000006</td>\n",
       "      <td>4.854600e-06</td>\n",
       "      <td>0.000006</td>\n",
       "      <td>-0.000015</td>\n",
       "      <td>0.006317</td>\n",
       "      <td>0.006315</td>\n",
       "      <td>0.006321</td>\n",
       "      <td>-0.035309</td>\n",
       "      <td>...</td>\n",
       "      <td>-0.48252</td>\n",
       "      <td>6.0859</td>\n",
       "      <td>16.2140</td>\n",
       "      <td>-1.4998</td>\n",
       "      <td>-1.4998</td>\n",
       "      <td>-1.4998</td>\n",
       "      <td>-1.4975</td>\n",
       "      <td>-1.4975</td>\n",
       "      <td>-1.4975</td>\n",
       "      <td>9</td>\n",
       "    </tr>\n",
       "    <tr>\n",
       "      <th>3</th>\n",
       "      <td>1.856800e-06</td>\n",
       "      <td>-0.000013</td>\n",
       "      <td>-0.000139</td>\n",
       "      <td>-2.323100e-06</td>\n",
       "      <td>-0.000059</td>\n",
       "      <td>0.000184</td>\n",
       "      <td>0.008755</td>\n",
       "      <td>0.008768</td>\n",
       "      <td>0.008907</td>\n",
       "      <td>-0.041292</td>\n",
       "      <td>...</td>\n",
       "      <td>-0.69714</td>\n",
       "      <td>0.6127</td>\n",
       "      <td>5.6592</td>\n",
       "      <td>-1.5036</td>\n",
       "      <td>-1.5036</td>\n",
       "      <td>-1.5033</td>\n",
       "      <td>-1.4945</td>\n",
       "      <td>-1.4945</td>\n",
       "      <td>-1.4944</td>\n",
       "      <td>9</td>\n",
       "    </tr>\n",
       "    <tr>\n",
       "      <th>4</th>\n",
       "      <td>-1.833400e-06</td>\n",
       "      <td>0.000007</td>\n",
       "      <td>0.000011</td>\n",
       "      <td>-4.316300e-06</td>\n",
       "      <td>0.000001</td>\n",
       "      <td>0.000010</td>\n",
       "      <td>0.021416</td>\n",
       "      <td>0.021409</td>\n",
       "      <td>0.021399</td>\n",
       "      <td>-0.018570</td>\n",
       "      <td>...</td>\n",
       "      <td>-0.48441</td>\n",
       "      <td>4.3420</td>\n",
       "      <td>12.3630</td>\n",
       "      <td>-1.4993</td>\n",
       "      <td>-1.4993</td>\n",
       "      <td>-1.4993</td>\n",
       "      <td>-1.4978</td>\n",
       "      <td>-1.4978</td>\n",
       "      <td>-1.4978</td>\n",
       "      <td>6</td>\n",
       "    </tr>\n",
       "  </tbody>\n",
       "</table>\n",
       "<p>5 rows × 49 columns</p>\n",
       "</div>"
      ],
      "text/plain": [
       "              0         1         2             3         4         5  \\\n",
       "0 -3.014000e-06 -0.000044 -0.000278 -6.710100e-06 -0.000015 -0.000113   \n",
       "1 -4.532700e-06 -0.000027  0.000115  2.347100e-07 -0.000022 -0.000318   \n",
       "2 -9.615600e-07  0.000002 -0.000006  4.854600e-06  0.000006 -0.000015   \n",
       "3  1.856800e-06 -0.000013 -0.000139 -2.323100e-06 -0.000059  0.000184   \n",
       "4 -1.833400e-06  0.000007  0.000011 -4.316300e-06  0.000001  0.000010   \n",
       "\n",
       "          6         7         8         9  ...       39      40       41  \\\n",
       "0  0.010787  0.010831  0.011108  0.002458  ... -0.71593  1.6617  12.1770   \n",
       "1  0.025578  0.025605  0.025490  0.025175  ... -0.61186  2.1574   6.7002   \n",
       "2  0.006317  0.006315  0.006321 -0.035309  ... -0.48252  6.0859  16.2140   \n",
       "3  0.008755  0.008768  0.008907 -0.041292  ... -0.69714  0.6127   5.6592   \n",
       "4  0.021416  0.021409  0.021399 -0.018570  ... -0.48441  4.3420  12.3630   \n",
       "\n",
       "       42      43      44      45      46      47  48  \n",
       "0 -1.5040 -1.5041 -1.5044 -1.4984 -1.4985 -1.4984   5  \n",
       "1 -1.4944 -1.4944 -1.4940 -1.5048 -1.5048 -1.5049   8  \n",
       "2 -1.4998 -1.4998 -1.4998 -1.4975 -1.4975 -1.4975   9  \n",
       "3 -1.5036 -1.5036 -1.5033 -1.4945 -1.4945 -1.4944   9  \n",
       "4 -1.4993 -1.4993 -1.4993 -1.4978 -1.4978 -1.4978   6  \n",
       "\n",
       "[5 rows x 49 columns]"
      ]
     },
     "execution_count": 3,
     "metadata": {},
     "output_type": "execute_result"
    }
   ],
   "source": [
    "print (dataframe.shape) \n",
    "dataframe.head()\n"
   ]
  },
  {
   "cell_type": "code",
   "execution_count": 4,
   "metadata": {},
   "outputs": [],
   "source": [
    "# Parameters =3=\n",
    "size = dataframe.shape[0]\n",
    "num_features = dataframe.shape[1] - 1\n",
    "size_training = int(size * 0.7)\n",
    "size_test = size - size_training\n",
    "# num_features\n",
    "\n",
    "num_Neighbors = 5\n",
    "size_try = 1000"
   ]
  },
  {
   "cell_type": "code",
   "execution_count": 43,
   "metadata": {},
   "outputs": [],
   "source": [
    "#X = dataframe.iloc[:, 0:48]\n",
    "X=dff\n",
    "Y = dataframe['48']\n",
    "\n",
    "X_training_pd = X.iloc[0:size_training, :]\n",
    "X_test_pd = X.iloc[size_training: size, :]\n",
    "X_try_pd = X.iloc[0:size_try, :]\n",
    "\n",
    "Y_training_pd = Y[0:size_training]\n",
    "Y_test_pd = Y[size_training:size]\n",
    "Y_try_pd = Y[0:size_try]\n"
   ]
  },
  {
   "cell_type": "code",
   "execution_count": 44,
   "metadata": {},
   "outputs": [
    {
     "name": "stdout",
     "output_type": "stream",
     "text": [
      "size of training data: 28669\n",
      "size of testing data: 12287\n"
     ]
    }
   ],
   "source": [
    "X_train = X_training_pd.to_numpy()\n",
    "X_test = X_test_pd.to_numpy()\n",
    "X_try = X_try_pd.to_numpy()\n",
    "\n",
    "Y_train = Y_training_pd.to_numpy()\n",
    "Y_test = Y_test_pd.to_numpy()\n",
    "Y_try = Y_try_pd.to_numpy()\n",
    "\n",
    "print(\"size of training data:\",len(X_train))\n",
    "print(\"size of testing data:\", len(X_test))\n"
   ]
  },
  {
   "cell_type": "code",
   "execution_count": null,
   "metadata": {},
   "outputs": [],
   "source": [
    " "
   ]
  },
  {
   "cell_type": "markdown",
   "metadata": {},
   "source": [
    "## Implement KNN\n",
    "Three steps:\n",
    "Step 1: Calculate Euclidean Distance.\n",
    "Step 2: Get Nearest Neighbors.\n",
    "Step 3: Make Predictions."
   ]
  },
  {
   "cell_type": "code",
   "execution_count": 7,
   "metadata": {},
   "outputs": [],
   "source": [
    "# step 1. Euclidean Distance\n",
    "\n",
    "import operator\n",
    "from math import sqrt\n",
    "\n",
    "def EuclideanDist(data1, data2):\n",
    "    dist = 0.0;\n",
    "    for i in range(0, num_features):\n",
    "        dist += (data1[i] - data2[i])**2\n",
    "    return sqrt(dist)\n"
   ]
  },
  {
   "cell_type": "code",
   "execution_count": 8,
   "metadata": {},
   "outputs": [],
   "source": [
    "# Step 2. Find the k nearest\n",
    "\n",
    "def KNearest(data, X_train, K):\n",
    "    dists = {}\n",
    "    for i in range(0, len(X_train)):\n",
    "        dist = EuclideanDist(data, X_train[i])\n",
    "        dists[i] = dist\n",
    "    order = sorted(dists.items(), key=operator.itemgetter(1))\n",
    "    k_nearest = []\n",
    "    for i in range(0, K):\n",
    "        k_nearest.append(order[i][0])\n",
    "#         print(\"distance is: \", order[i][1])\n",
    "    return k_nearest  \n",
    "\n",
    "# k_nearest is the **index of K data points that are closest to unknown point. "
   ]
  },
  {
   "cell_type": "code",
   "execution_count": 9,
   "metadata": {},
   "outputs": [],
   "source": [
    "# Step 3. Majority vote\n",
    "def voteKNN(k_nearest, Y_train):\n",
    "    votes = []\n",
    "    for i in k_nearest:\n",
    "        votes.append(Y_train[i])\n",
    "    mmax = np.argmax(np.bincount(votes))\n",
    "    return mmax\n",
    "#     votes = {}\n",
    "#     for i in k_nearest:\n",
    "#         if Y_train[i] in votes:\n",
    "#             votes[Y_train[i]] = votes[Y_train[i]] + 1\n",
    "#         else:\n",
    "#             votes[Y_train[i]] = 0\n",
    "#     order = sorted(votes.items(), key=operator.itemgetter(1))\n",
    "#     predict = order[0][0]\n",
    "#     return predict    "
   ]
  },
  {
   "cell_type": "code",
   "execution_count": 10,
   "metadata": {},
   "outputs": [
    {
     "name": "stdout",
     "output_type": "stream",
     "text": [
      "prediction is 8\n",
      "true value is 6\n"
     ]
    }
   ],
   "source": [
    "# Calculation with X_train\n",
    "print(\"prediction is\", voteKNN(KNearest(X_test[0], X_train, 5), Y_train))\n",
    "print(\"true value is\", Y_test[0])\n"
   ]
  },
  {
   "cell_type": "code",
   "execution_count": 11,
   "metadata": {},
   "outputs": [],
   "source": [
    "# Calculation with X_try \n"
   ]
  },
  {
   "cell_type": "code",
   "execution_count": 12,
   "metadata": {},
   "outputs": [],
   "source": [
    "def KNN(X_train,X_test,Y_train, K):\n",
    "    Y_predic = []\n",
    "    for data in X_test:\n",
    "        Y_predic.append(voteKNN(KNearest(data, X_train, K), Y_train))\n",
    "    return Y_predic   \n",
    "    \n",
    "#      \"\"\"\n",
    "#     :type X_train: numpy.ndarray\n",
    "#     :type X_test: numpy.ndarray\n",
    "#     :type Y_train: numpy.ndarray\n",
    "    \n",
    "#     :rtype: numpy.ndarray\n",
    "#     \"\"\""
   ]
  },
  {
   "cell_type": "code",
   "execution_count": 13,
   "metadata": {},
   "outputs": [
    {
     "data": {
      "text/plain": [
       "[8,\n",
       " 11,\n",
       " 9,\n",
       " 3,\n",
       " 1,\n",
       " 4,\n",
       " 2,\n",
       " 9,\n",
       " 1,\n",
       " 3,\n",
       " 5,\n",
       " 1,\n",
       " 7,\n",
       " 2,\n",
       " 10,\n",
       " 1,\n",
       " 1,\n",
       " 2,\n",
       " 2,\n",
       " 1,\n",
       " 2,\n",
       " 6,\n",
       " 1,\n",
       " 1,\n",
       " 9,\n",
       " 6,\n",
       " 7,\n",
       " 3,\n",
       " 1,\n",
       " 2,\n",
       " 1,\n",
       " 1,\n",
       " 6,\n",
       " 11,\n",
       " 1,\n",
       " 3,\n",
       " 1,\n",
       " 9,\n",
       " 1,\n",
       " 8,\n",
       " 9,\n",
       " 6,\n",
       " 1,\n",
       " 3,\n",
       " 4,\n",
       " 2,\n",
       " 6,\n",
       " 4,\n",
       " 2,\n",
       " 9,\n",
       " 10,\n",
       " 1,\n",
       " 4,\n",
       " 11,\n",
       " 9,\n",
       " 1,\n",
       " 5,\n",
       " 2,\n",
       " 3,\n",
       " 1,\n",
       " 2,\n",
       " 1,\n",
       " 3,\n",
       " 1,\n",
       " 3,\n",
       " 1,\n",
       " 3,\n",
       " 4,\n",
       " 9,\n",
       " 2,\n",
       " 4,\n",
       " 6,\n",
       " 2,\n",
       " 5,\n",
       " 10,\n",
       " 6,\n",
       " 7,\n",
       " 6,\n",
       " 8,\n",
       " 8,\n",
       " 3,\n",
       " 2,\n",
       " 2,\n",
       " 1,\n",
       " 10,\n",
       " 10,\n",
       " 1,\n",
       " 10,\n",
       " 10,\n",
       " 6,\n",
       " 10,\n",
       " 1,\n",
       " 1,\n",
       " 1,\n",
       " 4,\n",
       " 2,\n",
       " 3,\n",
       " 2,\n",
       " 1,\n",
       " 11]"
      ]
     },
     "execution_count": 13,
     "metadata": {},
     "output_type": "execute_result"
    }
   ],
   "source": [
    "# KNN(X_train,X_test[0:100],Y_train, num_Neighbors)"
   ]
  },
  {
   "cell_type": "code",
   "execution_count": 14,
   "metadata": {},
   "outputs": [],
   "source": [
    "def Accuracy(y_true, y_pred):\n",
    "    count = 0\n",
    "    for i in range(0, len(y_pred)):\n",
    "        if y_true[i] == y_pred[i]:\n",
    "            count += 1\n",
    "    return count/len(y_pred)\n",
    "        \n",
    "    \"\"\"\n",
    "    :type y_true: numpy.ndarray\n",
    "    :type y_pred: numpy.ndarray\n",
    "    :rtype: float\n",
    "    \n",
    "    \"\"\""
   ]
  },
  {
   "cell_type": "code",
   "execution_count": 34,
   "metadata": {},
   "outputs": [],
   "source": [
    "# try_pred1 = KNN(X_train,X_test[0:100],Y_train, num_Neighbors)\n",
    "try_true1 = Y_test[0:1000]\n",
    "\n",
    "# try_pred1 = [1,2,3,4,5,6,7]\n",
    "# try_true1 = [1,2,3,4,5,6,7]\n",
    "\n",
    "# Accuracy(try_true1, try_pred1)"
   ]
  },
  {
   "cell_type": "markdown",
   "metadata": {},
   "source": [
    "## SKlearn KNN\n"
   ]
  },
  {
   "cell_type": "code",
   "execution_count": 37,
   "metadata": {},
   "outputs": [
    {
     "data": {
      "text/plain": [
       "KNeighborsClassifier(algorithm='auto', leaf_size=30, metric='minkowski',\n",
       "                     metric_params=None, n_jobs=None, n_neighbors=20, p=2,\n",
       "                     weights='uniform')"
      ]
     },
     "execution_count": 37,
     "metadata": {},
     "output_type": "execute_result"
    }
   ],
   "source": [
    "knn = KNeighborsClassifier(n_neighbors=K)\n",
    "knn.fit(X_train, Y_train)"
   ]
  },
  {
   "cell_type": "code",
   "execution_count": 38,
   "metadata": {},
   "outputs": [
    {
     "data": {
      "text/plain": [
       "0.117"
      ]
     },
     "execution_count": 38,
     "metadata": {},
     "output_type": "execute_result"
    }
   ],
   "source": [
    "Accuracy(try_true1, knn.predict(X_test[0:1000]))"
   ]
  },
  {
   "cell_type": "code",
   "execution_count": 54,
   "metadata": {},
   "outputs": [
    {
     "name": "stdout",
     "output_type": "stream",
     "text": [
      "acc when K = 3  0.9855945308049158\n",
      "acc when K = 4  0.9836412468462603\n",
      "acc when K = 5  0.9845365019939774\n",
      "acc when K = 6  0.9839667941727028\n",
      "acc when K = 7  0.98486204932042\n",
      "acc when K = 8  0.9841295678359242\n",
      "acc when K = 9  0.9851062098152519\n",
      "acc when K = 10  0.9846992756571986\n",
      "acc when K = 11  0.985757304468137\n",
      "acc when K = 12  0.9843737283307561\n",
      "acc when K = 13  0.9843737283307561\n",
      "acc when K = 14  0.9834784731830389\n",
      "acc when K = 15  0.9842923414991455\n",
      "acc when K = 16  0.9836412468462603\n",
      "acc when K = 17  0.9841295678359242\n",
      "acc when K = 18  0.983234312688207\n",
      "acc when K = 19  0.9839667941727028\n",
      "acc when K = 20  0.9831529258565964\n",
      "acc when K = 21  0.9829087653617644\n",
      "acc when K = 22  0.9833156995198177\n",
      "acc when K = 23  0.9826646048669325\n",
      "acc when K = 24  0.9829901521933752\n",
      "acc when K = 25  0.9826646048669325\n",
      "acc when K = 26  0.9820135102140474\n",
      "acc when K = 27  0.9817693497192155\n",
      "acc when K = 28  0.9804671604134451\n",
      "acc when K = 29  0.9803857735818344\n",
      "acc when K = 30  0.9804671604134451\n",
      "acc when K = 31  0.9799788394237813\n",
      "acc when K = 32  0.9791649711076748\n",
      "acc when K = 33  0.9791649711076748\n",
      "acc when K = 34  0.9787580369496216\n",
      "acc when K = 35  0.9786766501180109\n",
      "acc when K = 36  0.9787580369496216\n",
      "acc when K = 37  0.9783511027915683\n",
      "acc when K = 38  0.9781883291283471\n",
      "acc when K = 39  0.9780255554651257\n",
      "acc when K = 40  0.9776186213070726\n",
      "acc when K = 41  0.9777000081386832\n",
      "acc when K = 42  0.9772930739806299\n",
      "acc when K = 43  0.977048913485798\n",
      "acc when K = 44  0.977048913485798\n",
      "acc when K = 45  0.9766419793277448\n",
      "acc when K = 46  0.9766419793277448\n",
      "acc when K = 47  0.9757467241800277\n",
      "acc when K = 48  0.9758281110116384\n",
      "acc when K = 49  0.9757467241800277\n",
      "acc when K = 50  0.9748514690323106\n",
      "acc when K = 51  0.9750142426955318\n",
      "acc when K = 52  0.9741189875478148\n",
      "acc when K = 53  0.9744445348742573\n",
      "acc when K = 54  0.9735492797265403\n",
      "acc when K = 55  0.9736306665581509\n",
      "acc when K = 56  0.9733051192317083\n",
      "acc when K = 57  0.9736306665581509\n",
      "acc when K = 58  0.9728981850736551\n",
      "acc when K = 59  0.9723284772523806\n",
      "acc when K = 60  0.9719215430943273\n",
      "acc when K = 61  0.972002929925938\n",
      "acc when K = 62  0.9719215430943273\n",
      "acc when K = 63  0.9714332221046634\n",
      "acc when K = 64  0.9712704484414422\n",
      "acc when K = 65  0.9711076747782209\n",
      "acc when K = 66  0.9705379669569464\n",
      "acc when K = 67  0.9704565801253358\n",
      "acc when K = 68  0.9700496459672825\n"
     ]
    },
    {
     "ename": "KeyboardInterrupt",
     "evalue": "",
     "output_type": "error",
     "traceback": [
      "\u001b[0;31m---------------------------------------------------------------------------\u001b[0m",
      "\u001b[0;31mKeyboardInterrupt\u001b[0m                         Traceback (most recent call last)",
      "\u001b[0;32m<ipython-input-54-5737a76b612e>\u001b[0m in \u001b[0;36m<module>\u001b[0;34m\u001b[0m\n\u001b[1;32m      3\u001b[0m     \u001b[0mknn\u001b[0m\u001b[0;34m.\u001b[0m\u001b[0mfit\u001b[0m\u001b[0;34m(\u001b[0m\u001b[0mX_train\u001b[0m\u001b[0;34m,\u001b[0m \u001b[0mY_train\u001b[0m\u001b[0;34m)\u001b[0m\u001b[0;34m\u001b[0m\u001b[0;34m\u001b[0m\u001b[0m\n\u001b[1;32m      4\u001b[0m     \u001b[0mtry_true1\u001b[0m \u001b[0;34m=\u001b[0m \u001b[0mY_test\u001b[0m\u001b[0;34m\u001b[0m\u001b[0;34m\u001b[0m\u001b[0m\n\u001b[0;32m----> 5\u001b[0;31m     \u001b[0mprint\u001b[0m\u001b[0;34m(\u001b[0m\u001b[0;34m\"acc when K =\"\u001b[0m\u001b[0;34m,\u001b[0m \u001b[0mi\u001b[0m\u001b[0;34m,\u001b[0m\u001b[0;34m\"\"\u001b[0m\u001b[0;34m,\u001b[0m  \u001b[0mAccuracy\u001b[0m\u001b[0;34m(\u001b[0m\u001b[0mtry_true1\u001b[0m\u001b[0;34m,\u001b[0m \u001b[0mknn\u001b[0m\u001b[0;34m.\u001b[0m\u001b[0mpredict\u001b[0m\u001b[0;34m(\u001b[0m\u001b[0mX_test\u001b[0m\u001b[0;34m)\u001b[0m\u001b[0;34m)\u001b[0m\u001b[0;34m)\u001b[0m\u001b[0;34m\u001b[0m\u001b[0;34m\u001b[0m\u001b[0m\n\u001b[0m",
      "\u001b[0;32m/anaconda3/lib/python3.7/site-packages/sklearn/neighbors/_classification.py\u001b[0m in \u001b[0;36mpredict\u001b[0;34m(self, X)\u001b[0m\n\u001b[1;32m    171\u001b[0m         \u001b[0mX\u001b[0m \u001b[0;34m=\u001b[0m \u001b[0mcheck_array\u001b[0m\u001b[0;34m(\u001b[0m\u001b[0mX\u001b[0m\u001b[0;34m,\u001b[0m \u001b[0maccept_sparse\u001b[0m\u001b[0;34m=\u001b[0m\u001b[0;34m'csr'\u001b[0m\u001b[0;34m)\u001b[0m\u001b[0;34m\u001b[0m\u001b[0;34m\u001b[0m\u001b[0m\n\u001b[1;32m    172\u001b[0m \u001b[0;34m\u001b[0m\u001b[0m\n\u001b[0;32m--> 173\u001b[0;31m         \u001b[0mneigh_dist\u001b[0m\u001b[0;34m,\u001b[0m \u001b[0mneigh_ind\u001b[0m \u001b[0;34m=\u001b[0m \u001b[0mself\u001b[0m\u001b[0;34m.\u001b[0m\u001b[0mkneighbors\u001b[0m\u001b[0;34m(\u001b[0m\u001b[0mX\u001b[0m\u001b[0;34m)\u001b[0m\u001b[0;34m\u001b[0m\u001b[0;34m\u001b[0m\u001b[0m\n\u001b[0m\u001b[1;32m    174\u001b[0m         \u001b[0mclasses_\u001b[0m \u001b[0;34m=\u001b[0m \u001b[0mself\u001b[0m\u001b[0;34m.\u001b[0m\u001b[0mclasses_\u001b[0m\u001b[0;34m\u001b[0m\u001b[0;34m\u001b[0m\u001b[0m\n\u001b[1;32m    175\u001b[0m         \u001b[0m_y\u001b[0m \u001b[0;34m=\u001b[0m \u001b[0mself\u001b[0m\u001b[0;34m.\u001b[0m\u001b[0m_y\u001b[0m\u001b[0;34m\u001b[0m\u001b[0;34m\u001b[0m\u001b[0m\n",
      "\u001b[0;32m/anaconda3/lib/python3.7/site-packages/sklearn/neighbors/_base.py\u001b[0m in \u001b[0;36mkneighbors\u001b[0;34m(self, X, n_neighbors, return_distance)\u001b[0m\n\u001b[1;32m    661\u001b[0m                 delayed_query(\n\u001b[1;32m    662\u001b[0m                     self._tree, X[s], n_neighbors, return_distance)\n\u001b[0;32m--> 663\u001b[0;31m                 \u001b[0;32mfor\u001b[0m \u001b[0ms\u001b[0m \u001b[0;32min\u001b[0m \u001b[0mgen_even_slices\u001b[0m\u001b[0;34m(\u001b[0m\u001b[0mX\u001b[0m\u001b[0;34m.\u001b[0m\u001b[0mshape\u001b[0m\u001b[0;34m[\u001b[0m\u001b[0;36m0\u001b[0m\u001b[0;34m]\u001b[0m\u001b[0;34m,\u001b[0m \u001b[0mn_jobs\u001b[0m\u001b[0;34m)\u001b[0m\u001b[0;34m\u001b[0m\u001b[0;34m\u001b[0m\u001b[0m\n\u001b[0m\u001b[1;32m    664\u001b[0m             )\n\u001b[1;32m    665\u001b[0m         \u001b[0;32melse\u001b[0m\u001b[0;34m:\u001b[0m\u001b[0;34m\u001b[0m\u001b[0;34m\u001b[0m\u001b[0m\n",
      "\u001b[0;32m/anaconda3/lib/python3.7/site-packages/joblib/parallel.py\u001b[0m in \u001b[0;36m__call__\u001b[0;34m(self, iterable)\u001b[0m\n\u001b[1;32m   1002\u001b[0m             \u001b[0;31m# remaining jobs.\u001b[0m\u001b[0;34m\u001b[0m\u001b[0;34m\u001b[0m\u001b[0;34m\u001b[0m\u001b[0m\n\u001b[1;32m   1003\u001b[0m             \u001b[0mself\u001b[0m\u001b[0;34m.\u001b[0m\u001b[0m_iterating\u001b[0m \u001b[0;34m=\u001b[0m \u001b[0;32mFalse\u001b[0m\u001b[0;34m\u001b[0m\u001b[0;34m\u001b[0m\u001b[0m\n\u001b[0;32m-> 1004\u001b[0;31m             \u001b[0;32mif\u001b[0m \u001b[0mself\u001b[0m\u001b[0;34m.\u001b[0m\u001b[0mdispatch_one_batch\u001b[0m\u001b[0;34m(\u001b[0m\u001b[0miterator\u001b[0m\u001b[0;34m)\u001b[0m\u001b[0;34m:\u001b[0m\u001b[0;34m\u001b[0m\u001b[0;34m\u001b[0m\u001b[0m\n\u001b[0m\u001b[1;32m   1005\u001b[0m                 \u001b[0mself\u001b[0m\u001b[0;34m.\u001b[0m\u001b[0m_iterating\u001b[0m \u001b[0;34m=\u001b[0m \u001b[0mself\u001b[0m\u001b[0;34m.\u001b[0m\u001b[0m_original_iterator\u001b[0m \u001b[0;32mis\u001b[0m \u001b[0;32mnot\u001b[0m \u001b[0;32mNone\u001b[0m\u001b[0;34m\u001b[0m\u001b[0;34m\u001b[0m\u001b[0m\n\u001b[1;32m   1006\u001b[0m \u001b[0;34m\u001b[0m\u001b[0m\n",
      "\u001b[0;32m/anaconda3/lib/python3.7/site-packages/joblib/parallel.py\u001b[0m in \u001b[0;36mdispatch_one_batch\u001b[0;34m(self, iterator)\u001b[0m\n\u001b[1;32m    833\u001b[0m                 \u001b[0;32mreturn\u001b[0m \u001b[0;32mFalse\u001b[0m\u001b[0;34m\u001b[0m\u001b[0;34m\u001b[0m\u001b[0m\n\u001b[1;32m    834\u001b[0m             \u001b[0;32melse\u001b[0m\u001b[0;34m:\u001b[0m\u001b[0;34m\u001b[0m\u001b[0;34m\u001b[0m\u001b[0m\n\u001b[0;32m--> 835\u001b[0;31m                 \u001b[0mself\u001b[0m\u001b[0;34m.\u001b[0m\u001b[0m_dispatch\u001b[0m\u001b[0;34m(\u001b[0m\u001b[0mtasks\u001b[0m\u001b[0;34m)\u001b[0m\u001b[0;34m\u001b[0m\u001b[0;34m\u001b[0m\u001b[0m\n\u001b[0m\u001b[1;32m    836\u001b[0m                 \u001b[0;32mreturn\u001b[0m \u001b[0;32mTrue\u001b[0m\u001b[0;34m\u001b[0m\u001b[0;34m\u001b[0m\u001b[0m\n\u001b[1;32m    837\u001b[0m \u001b[0;34m\u001b[0m\u001b[0m\n",
      "\u001b[0;32m/anaconda3/lib/python3.7/site-packages/joblib/parallel.py\u001b[0m in \u001b[0;36m_dispatch\u001b[0;34m(self, batch)\u001b[0m\n\u001b[1;32m    752\u001b[0m         \u001b[0;32mwith\u001b[0m \u001b[0mself\u001b[0m\u001b[0;34m.\u001b[0m\u001b[0m_lock\u001b[0m\u001b[0;34m:\u001b[0m\u001b[0;34m\u001b[0m\u001b[0;34m\u001b[0m\u001b[0m\n\u001b[1;32m    753\u001b[0m             \u001b[0mjob_idx\u001b[0m \u001b[0;34m=\u001b[0m \u001b[0mlen\u001b[0m\u001b[0;34m(\u001b[0m\u001b[0mself\u001b[0m\u001b[0;34m.\u001b[0m\u001b[0m_jobs\u001b[0m\u001b[0;34m)\u001b[0m\u001b[0;34m\u001b[0m\u001b[0;34m\u001b[0m\u001b[0m\n\u001b[0;32m--> 754\u001b[0;31m             \u001b[0mjob\u001b[0m \u001b[0;34m=\u001b[0m \u001b[0mself\u001b[0m\u001b[0;34m.\u001b[0m\u001b[0m_backend\u001b[0m\u001b[0;34m.\u001b[0m\u001b[0mapply_async\u001b[0m\u001b[0;34m(\u001b[0m\u001b[0mbatch\u001b[0m\u001b[0;34m,\u001b[0m \u001b[0mcallback\u001b[0m\u001b[0;34m=\u001b[0m\u001b[0mcb\u001b[0m\u001b[0;34m)\u001b[0m\u001b[0;34m\u001b[0m\u001b[0;34m\u001b[0m\u001b[0m\n\u001b[0m\u001b[1;32m    755\u001b[0m             \u001b[0;31m# A job can complete so quickly than its callback is\u001b[0m\u001b[0;34m\u001b[0m\u001b[0;34m\u001b[0m\u001b[0;34m\u001b[0m\u001b[0m\n\u001b[1;32m    756\u001b[0m             \u001b[0;31m# called before we get here, causing self._jobs to\u001b[0m\u001b[0;34m\u001b[0m\u001b[0;34m\u001b[0m\u001b[0;34m\u001b[0m\u001b[0m\n",
      "\u001b[0;32m/anaconda3/lib/python3.7/site-packages/joblib/_parallel_backends.py\u001b[0m in \u001b[0;36mapply_async\u001b[0;34m(self, func, callback)\u001b[0m\n\u001b[1;32m    207\u001b[0m     \u001b[0;32mdef\u001b[0m \u001b[0mapply_async\u001b[0m\u001b[0;34m(\u001b[0m\u001b[0mself\u001b[0m\u001b[0;34m,\u001b[0m \u001b[0mfunc\u001b[0m\u001b[0;34m,\u001b[0m \u001b[0mcallback\u001b[0m\u001b[0;34m=\u001b[0m\u001b[0;32mNone\u001b[0m\u001b[0;34m)\u001b[0m\u001b[0;34m:\u001b[0m\u001b[0;34m\u001b[0m\u001b[0;34m\u001b[0m\u001b[0m\n\u001b[1;32m    208\u001b[0m         \u001b[0;34m\"\"\"Schedule a func to be run\"\"\"\u001b[0m\u001b[0;34m\u001b[0m\u001b[0;34m\u001b[0m\u001b[0m\n\u001b[0;32m--> 209\u001b[0;31m         \u001b[0mresult\u001b[0m \u001b[0;34m=\u001b[0m \u001b[0mImmediateResult\u001b[0m\u001b[0;34m(\u001b[0m\u001b[0mfunc\u001b[0m\u001b[0;34m)\u001b[0m\u001b[0;34m\u001b[0m\u001b[0;34m\u001b[0m\u001b[0m\n\u001b[0m\u001b[1;32m    210\u001b[0m         \u001b[0;32mif\u001b[0m \u001b[0mcallback\u001b[0m\u001b[0;34m:\u001b[0m\u001b[0;34m\u001b[0m\u001b[0;34m\u001b[0m\u001b[0m\n\u001b[1;32m    211\u001b[0m             \u001b[0mcallback\u001b[0m\u001b[0;34m(\u001b[0m\u001b[0mresult\u001b[0m\u001b[0;34m)\u001b[0m\u001b[0;34m\u001b[0m\u001b[0;34m\u001b[0m\u001b[0m\n",
      "\u001b[0;32m/anaconda3/lib/python3.7/site-packages/joblib/_parallel_backends.py\u001b[0m in \u001b[0;36m__init__\u001b[0;34m(self, batch)\u001b[0m\n\u001b[1;32m    588\u001b[0m         \u001b[0;31m# Don't delay the application, to avoid keeping the input\u001b[0m\u001b[0;34m\u001b[0m\u001b[0;34m\u001b[0m\u001b[0;34m\u001b[0m\u001b[0m\n\u001b[1;32m    589\u001b[0m         \u001b[0;31m# arguments in memory\u001b[0m\u001b[0;34m\u001b[0m\u001b[0;34m\u001b[0m\u001b[0;34m\u001b[0m\u001b[0m\n\u001b[0;32m--> 590\u001b[0;31m         \u001b[0mself\u001b[0m\u001b[0;34m.\u001b[0m\u001b[0mresults\u001b[0m \u001b[0;34m=\u001b[0m \u001b[0mbatch\u001b[0m\u001b[0;34m(\u001b[0m\u001b[0;34m)\u001b[0m\u001b[0;34m\u001b[0m\u001b[0;34m\u001b[0m\u001b[0m\n\u001b[0m\u001b[1;32m    591\u001b[0m \u001b[0;34m\u001b[0m\u001b[0m\n\u001b[1;32m    592\u001b[0m     \u001b[0;32mdef\u001b[0m \u001b[0mget\u001b[0m\u001b[0;34m(\u001b[0m\u001b[0mself\u001b[0m\u001b[0;34m)\u001b[0m\u001b[0;34m:\u001b[0m\u001b[0;34m\u001b[0m\u001b[0;34m\u001b[0m\u001b[0m\n",
      "\u001b[0;32m/anaconda3/lib/python3.7/site-packages/joblib/parallel.py\u001b[0m in \u001b[0;36m__call__\u001b[0;34m(self)\u001b[0m\n\u001b[1;32m    254\u001b[0m         \u001b[0;32mwith\u001b[0m \u001b[0mparallel_backend\u001b[0m\u001b[0;34m(\u001b[0m\u001b[0mself\u001b[0m\u001b[0;34m.\u001b[0m\u001b[0m_backend\u001b[0m\u001b[0;34m,\u001b[0m \u001b[0mn_jobs\u001b[0m\u001b[0;34m=\u001b[0m\u001b[0mself\u001b[0m\u001b[0;34m.\u001b[0m\u001b[0m_n_jobs\u001b[0m\u001b[0;34m)\u001b[0m\u001b[0;34m:\u001b[0m\u001b[0;34m\u001b[0m\u001b[0;34m\u001b[0m\u001b[0m\n\u001b[1;32m    255\u001b[0m             return [func(*args, **kwargs)\n\u001b[0;32m--> 256\u001b[0;31m                     for func, args, kwargs in self.items]\n\u001b[0m\u001b[1;32m    257\u001b[0m \u001b[0;34m\u001b[0m\u001b[0m\n\u001b[1;32m    258\u001b[0m     \u001b[0;32mdef\u001b[0m \u001b[0m__len__\u001b[0m\u001b[0;34m(\u001b[0m\u001b[0mself\u001b[0m\u001b[0;34m)\u001b[0m\u001b[0;34m:\u001b[0m\u001b[0;34m\u001b[0m\u001b[0;34m\u001b[0m\u001b[0m\n",
      "\u001b[0;32m/anaconda3/lib/python3.7/site-packages/joblib/parallel.py\u001b[0m in \u001b[0;36m<listcomp>\u001b[0;34m(.0)\u001b[0m\n\u001b[1;32m    254\u001b[0m         \u001b[0;32mwith\u001b[0m \u001b[0mparallel_backend\u001b[0m\u001b[0;34m(\u001b[0m\u001b[0mself\u001b[0m\u001b[0;34m.\u001b[0m\u001b[0m_backend\u001b[0m\u001b[0;34m,\u001b[0m \u001b[0mn_jobs\u001b[0m\u001b[0;34m=\u001b[0m\u001b[0mself\u001b[0m\u001b[0;34m.\u001b[0m\u001b[0m_n_jobs\u001b[0m\u001b[0;34m)\u001b[0m\u001b[0;34m:\u001b[0m\u001b[0;34m\u001b[0m\u001b[0;34m\u001b[0m\u001b[0m\n\u001b[1;32m    255\u001b[0m             return [func(*args, **kwargs)\n\u001b[0;32m--> 256\u001b[0;31m                     for func, args, kwargs in self.items]\n\u001b[0m\u001b[1;32m    257\u001b[0m \u001b[0;34m\u001b[0m\u001b[0m\n\u001b[1;32m    258\u001b[0m     \u001b[0;32mdef\u001b[0m \u001b[0m__len__\u001b[0m\u001b[0;34m(\u001b[0m\u001b[0mself\u001b[0m\u001b[0;34m)\u001b[0m\u001b[0;34m:\u001b[0m\u001b[0;34m\u001b[0m\u001b[0;34m\u001b[0m\u001b[0m\n",
      "\u001b[0;32m/anaconda3/lib/python3.7/site-packages/sklearn/neighbors/_base.py\u001b[0m in \u001b[0;36m_tree_query_parallel_helper\u001b[0;34m(tree, *args, **kwargs)\u001b[0m\n\u001b[1;32m    488\u001b[0m     \u001b[0munder\u001b[0m \u001b[0mPyPy\u001b[0m\u001b[0;34m.\u001b[0m\u001b[0;34m\u001b[0m\u001b[0;34m\u001b[0m\u001b[0m\n\u001b[1;32m    489\u001b[0m     \"\"\"\n\u001b[0;32m--> 490\u001b[0;31m     \u001b[0;32mreturn\u001b[0m \u001b[0mtree\u001b[0m\u001b[0;34m.\u001b[0m\u001b[0mquery\u001b[0m\u001b[0;34m(\u001b[0m\u001b[0;34m*\u001b[0m\u001b[0margs\u001b[0m\u001b[0;34m,\u001b[0m \u001b[0;34m**\u001b[0m\u001b[0mkwargs\u001b[0m\u001b[0;34m)\u001b[0m\u001b[0;34m\u001b[0m\u001b[0;34m\u001b[0m\u001b[0m\n\u001b[0m\u001b[1;32m    491\u001b[0m \u001b[0;34m\u001b[0m\u001b[0m\n\u001b[1;32m    492\u001b[0m \u001b[0;34m\u001b[0m\u001b[0m\n",
      "\u001b[0;31mKeyboardInterrupt\u001b[0m: "
     ]
    }
   ],
   "source": [
    "for i in range(3, 100):\n",
    "    knn = KNeighborsClassifier(n_neighbors = i)\n",
    "    knn.fit(X_train, Y_train)\n",
    "    try_true1 = Y_test\n",
    "    print(\"acc when K =\", i,\"\",  Accuracy(try_true1, knn.predict(X_test)))"
   ]
  },
  {
   "cell_type": "code",
   "execution_count": null,
   "metadata": {},
   "outputs": [],
   "source": [
    "# acc when K = 11  0.985757304468137"
   ]
  },
  {
   "cell_type": "code",
   "execution_count": null,
   "metadata": {},
   "outputs": [],
   "source": []
  }
 ],
 "metadata": {
  "kernelspec": {
   "display_name": "Python 3",
   "language": "python",
   "name": "python3"
  }
 },
 "nbformat": 4,
 "nbformat_minor": 2
}
